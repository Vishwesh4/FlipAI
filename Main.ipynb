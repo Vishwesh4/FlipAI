{
 "cells": [
  {
   "cell_type": "code",
   "execution_count": 1,
   "metadata": {},
   "outputs": [
    {
     "name": "stderr",
     "output_type": "stream",
     "text": [
      "Using TensorFlow backend.\n"
     ]
    }
   ],
   "source": [
    "from core.model import BBregression\n",
    "import tensorflow as tf\n",
    "import matplotlib.pyplot as plt\n",
    "from matplotlib.pyplot import imshow\n",
    "import scipy.io\n",
    "import scipy.misc\n",
    "import numpy as np\n",
    "import pandas as pd\n",
    "from core.Dataloader import Dataloader\n",
    "import cv2\n",
    "import random\n",
    "from keras import backend as K"
   ]
  },
  {
   "cell_type": "code",
   "execution_count": 2,
   "metadata": {
    "collapsed": true
   },
   "outputs": [],
   "source": [
    "model = BBregression(480)"
   ]
  },
  {
   "cell_type": "code",
   "execution_count": 3,
   "metadata": {
    "collapsed": true
   },
   "outputs": [],
   "source": [
    "df_training = pd.read_csv(\"./Data/training.csv\")\n",
    "df_test = pd.read_csv(\"./Data/test.csv\")"
   ]
  },
  {
   "cell_type": "code",
   "execution_count": 4,
   "metadata": {},
   "outputs": [
    {
     "data": {
      "text/html": [
       "<div>\n",
       "<style scoped>\n",
       "    .dataframe tbody tr th:only-of-type {\n",
       "        vertical-align: middle;\n",
       "    }\n",
       "\n",
       "    .dataframe tbody tr th {\n",
       "        vertical-align: top;\n",
       "    }\n",
       "\n",
       "    .dataframe thead th {\n",
       "        text-align: right;\n",
       "    }\n",
       "</style>\n",
       "<table border=\"1\" class=\"dataframe\">\n",
       "  <thead>\n",
       "    <tr style=\"text-align: right;\">\n",
       "      <th></th>\n",
       "      <th>image_name</th>\n",
       "      <th>x1</th>\n",
       "      <th>x2</th>\n",
       "      <th>y1</th>\n",
       "      <th>y2</th>\n",
       "    </tr>\n",
       "  </thead>\n",
       "  <tbody>\n",
       "    <tr>\n",
       "      <th>0</th>\n",
       "      <td>JPEG_20160706_121146_1000145715002.png</td>\n",
       "      <td>115</td>\n",
       "      <td>495</td>\n",
       "      <td>143</td>\n",
       "      <td>325</td>\n",
       "    </tr>\n",
       "    <tr>\n",
       "      <th>1</th>\n",
       "      <td>JPEG_20161119_174038_1000690577600.png</td>\n",
       "      <td>23</td>\n",
       "      <td>457</td>\n",
       "      <td>61</td>\n",
       "      <td>409</td>\n",
       "    </tr>\n",
       "    <tr>\n",
       "      <th>2</th>\n",
       "      <td>147444927651111470309333776-Roadster-Men-Casua...</td>\n",
       "      <td>37</td>\n",
       "      <td>601</td>\n",
       "      <td>13</td>\n",
       "      <td>470</td>\n",
       "    </tr>\n",
       "    <tr>\n",
       "      <th>3</th>\n",
       "      <td>147772332675720161028_161611.png</td>\n",
       "      <td>27</td>\n",
       "      <td>602</td>\n",
       "      <td>162</td>\n",
       "      <td>385</td>\n",
       "    </tr>\n",
       "    <tr>\n",
       "      <th>4</th>\n",
       "      <td>1473315333651DeeplearnS11638.png</td>\n",
       "      <td>60</td>\n",
       "      <td>586</td>\n",
       "      <td>174</td>\n",
       "      <td>325</td>\n",
       "    </tr>\n",
       "  </tbody>\n",
       "</table>\n",
       "</div>"
      ],
      "text/plain": [
       "                                          image_name   x1   x2   y1   y2\n",
       "0             JPEG_20160706_121146_1000145715002.png  115  495  143  325\n",
       "1             JPEG_20161119_174038_1000690577600.png   23  457   61  409\n",
       "2  147444927651111470309333776-Roadster-Men-Casua...   37  601   13  470\n",
       "3                   147772332675720161028_161611.png   27  602  162  385\n",
       "4                   1473315333651DeeplearnS11638.png   60  586  174  325"
      ]
     },
     "execution_count": 4,
     "metadata": {},
     "output_type": "execute_result"
    }
   ],
   "source": [
    "df_training.head()"
   ]
  },
  {
   "cell_type": "code",
   "execution_count": 5,
   "metadata": {},
   "outputs": [
    {
     "data": {
      "text/html": [
       "<div>\n",
       "<style scoped>\n",
       "    .dataframe tbody tr th:only-of-type {\n",
       "        vertical-align: middle;\n",
       "    }\n",
       "\n",
       "    .dataframe tbody tr th {\n",
       "        vertical-align: top;\n",
       "    }\n",
       "\n",
       "    .dataframe thead th {\n",
       "        text-align: right;\n",
       "    }\n",
       "</style>\n",
       "<table border=\"1\" class=\"dataframe\">\n",
       "  <thead>\n",
       "    <tr style=\"text-align: right;\">\n",
       "      <th></th>\n",
       "      <th>image_name</th>\n",
       "      <th>x1</th>\n",
       "      <th>x2</th>\n",
       "      <th>y1</th>\n",
       "      <th>y2</th>\n",
       "    </tr>\n",
       "  </thead>\n",
       "  <tbody>\n",
       "    <tr>\n",
       "      <th>0</th>\n",
       "      <td>1474723840903DSC08089.png</td>\n",
       "      <td>NaN</td>\n",
       "      <td>NaN</td>\n",
       "      <td>NaN</td>\n",
       "      <td>NaN</td>\n",
       "    </tr>\n",
       "    <tr>\n",
       "      <th>1</th>\n",
       "      <td>1473231475010DeeplearnS11276.png</td>\n",
       "      <td>NaN</td>\n",
       "      <td>NaN</td>\n",
       "      <td>NaN</td>\n",
       "      <td>NaN</td>\n",
       "    </tr>\n",
       "    <tr>\n",
       "      <th>2</th>\n",
       "      <td>JPEG_20161205_135307_1000155917326.png</td>\n",
       "      <td>NaN</td>\n",
       "      <td>NaN</td>\n",
       "      <td>NaN</td>\n",
       "      <td>NaN</td>\n",
       "    </tr>\n",
       "    <tr>\n",
       "      <th>3</th>\n",
       "      <td>JPEG_20160711_123440_1000518778437.png</td>\n",
       "      <td>NaN</td>\n",
       "      <td>NaN</td>\n",
       "      <td>NaN</td>\n",
       "      <td>NaN</td>\n",
       "    </tr>\n",
       "    <tr>\n",
       "      <th>4</th>\n",
       "      <td>JPEG_20160803_115329_100034020722.png</td>\n",
       "      <td>NaN</td>\n",
       "      <td>NaN</td>\n",
       "      <td>NaN</td>\n",
       "      <td>NaN</td>\n",
       "    </tr>\n",
       "  </tbody>\n",
       "</table>\n",
       "</div>"
      ],
      "text/plain": [
       "                               image_name  x1  x2  y1  y2\n",
       "0               1474723840903DSC08089.png NaN NaN NaN NaN\n",
       "1        1473231475010DeeplearnS11276.png NaN NaN NaN NaN\n",
       "2  JPEG_20161205_135307_1000155917326.png NaN NaN NaN NaN\n",
       "3  JPEG_20160711_123440_1000518778437.png NaN NaN NaN NaN\n",
       "4   JPEG_20160803_115329_100034020722.png NaN NaN NaN NaN"
      ]
     },
     "execution_count": 5,
     "metadata": {},
     "output_type": "execute_result"
    }
   ],
   "source": [
    "df_test.head()"
   ]
  },
  {
   "cell_type": "code",
   "execution_count": 6,
   "metadata": {},
   "outputs": [
    {
     "data": {
      "text/html": [
       "<div>\n",
       "<style scoped>\n",
       "    .dataframe tbody tr th:only-of-type {\n",
       "        vertical-align: middle;\n",
       "    }\n",
       "\n",
       "    .dataframe tbody tr th {\n",
       "        vertical-align: top;\n",
       "    }\n",
       "\n",
       "    .dataframe thead th {\n",
       "        text-align: right;\n",
       "    }\n",
       "</style>\n",
       "<table border=\"1\" class=\"dataframe\">\n",
       "  <thead>\n",
       "    <tr style=\"text-align: right;\">\n",
       "      <th></th>\n",
       "      <th>image_name</th>\n",
       "      <th>x1</th>\n",
       "      <th>x2</th>\n",
       "      <th>y1</th>\n",
       "      <th>y2</th>\n",
       "    </tr>\n",
       "  </thead>\n",
       "  <tbody>\n",
       "    <tr>\n",
       "      <th>0</th>\n",
       "      <td>./images/JPEG_20160706_121146_1000145715002.png</td>\n",
       "      <td>0.179688</td>\n",
       "      <td>0.773438</td>\n",
       "      <td>0.297917</td>\n",
       "      <td>0.677083</td>\n",
       "    </tr>\n",
       "    <tr>\n",
       "      <th>1</th>\n",
       "      <td>./images/JPEG_20161119_174038_1000690577600.png</td>\n",
       "      <td>0.035937</td>\n",
       "      <td>0.714063</td>\n",
       "      <td>0.127083</td>\n",
       "      <td>0.852083</td>\n",
       "    </tr>\n",
       "    <tr>\n",
       "      <th>2</th>\n",
       "      <td>./images/147444927651111470309333776-Roadster-...</td>\n",
       "      <td>0.057813</td>\n",
       "      <td>0.939063</td>\n",
       "      <td>0.027083</td>\n",
       "      <td>0.979167</td>\n",
       "    </tr>\n",
       "    <tr>\n",
       "      <th>3</th>\n",
       "      <td>./images/147772332675720161028_161611.png</td>\n",
       "      <td>0.042188</td>\n",
       "      <td>0.940625</td>\n",
       "      <td>0.337500</td>\n",
       "      <td>0.802083</td>\n",
       "    </tr>\n",
       "    <tr>\n",
       "      <th>4</th>\n",
       "      <td>./images/1473315333651DeeplearnS11638.png</td>\n",
       "      <td>0.093750</td>\n",
       "      <td>0.915625</td>\n",
       "      <td>0.362500</td>\n",
       "      <td>0.677083</td>\n",
       "    </tr>\n",
       "  </tbody>\n",
       "</table>\n",
       "</div>"
      ],
      "text/plain": [
       "                                          image_name        x1        x2  \\\n",
       "0    ./images/JPEG_20160706_121146_1000145715002.png  0.179688  0.773438   \n",
       "1    ./images/JPEG_20161119_174038_1000690577600.png  0.035937  0.714063   \n",
       "2  ./images/147444927651111470309333776-Roadster-...  0.057813  0.939063   \n",
       "3          ./images/147772332675720161028_161611.png  0.042188  0.940625   \n",
       "4          ./images/1473315333651DeeplearnS11638.png  0.093750  0.915625   \n",
       "\n",
       "         y1        y2  \n",
       "0  0.297917  0.677083  \n",
       "1  0.127083  0.852083  \n",
       "2  0.027083  0.979167  \n",
       "3  0.337500  0.802083  \n",
       "4  0.362500  0.677083  "
      ]
     },
     "execution_count": 6,
     "metadata": {},
     "output_type": "execute_result"
    }
   ],
   "source": [
    "#Preprocessing step\n",
    "df_training['image_name'] = './images/' + df_training['image_name'].astype(str) \n",
    "df_test['image_name'] = './images/' + df_test['image_name'].astype(str) \n",
    "\n",
    "#Normalizes the bounding box coordinates\n",
    "#Resizing the images to have 480*480 dimensions, hence changing the box coordinates\n",
    "df_training['x1'] = df_training['x1']/640\n",
    "df_training['x2'] = df_training['x2']/640\n",
    "df_training['y1'] = df_training['y1']/480\n",
    "df_training['y2'] = df_training['y2']/480\n",
    "df_training.head()"
   ]
  },
  {
   "cell_type": "code",
   "execution_count": 7,
   "metadata": {},
   "outputs": [
    {
     "name": "stdout",
     "output_type": "stream",
     "text": [
      "./images/JPEG_20160820_132120_100030061688.png\n"
     ]
    },
    {
     "data": {
      "image/png": "[encoded data removed]",
      "text/plain": [
       "<matplotlib.figure.Figure at 0x7fe5b8339a10>"
      ]
     },
     "metadata": {},
     "output_type": "display_data"
    }
   ],
   "source": [
    "Rand = random.randint(0,len(df_training))\n",
    "print(df_training.image_name.iloc[Rand])\n",
    "(img_path,x1,x2,y1,y2) = df_training.iloc[Rand]\n",
    "[x1,x2,y1,y2] = [x1*480,x2*480,y1*480,y2*480]\n",
    "img = cv2.imread(img_path) \n",
    "img = cv2.resize(img,(480,480))\n",
    "cv2.rectangle(img, (int(x1),int(y1)), (int(x2),int(y2)), (255,0,0), 2)\n",
    "temp = cv2.cvtColor(img, cv2.COLOR_BGR2RGB)\n",
    "plt.imshow(temp)\n",
    "plt.show()"
   ]
  },
  {
   "cell_type": "code",
   "execution_count": 8,
   "metadata": {
    "collapsed": true
   },
   "outputs": [],
   "source": [
    "#Dividing data into cross-val, train set\n",
    "#2000 data for cross-val and 12000 for train\n",
    "\n",
    "df_training = df_training.sample(frac=1).reset_index(drop=True)\n",
    "df_train = df_training.iloc[:12000,:]\n",
    "df_test =  df_training.iloc[12000::,:]\n"
   ]
  },
  {
   "cell_type": "code",
   "execution_count": 10,
   "metadata": {
    "collapsed": true
   },
   "outputs": [],
   "source": [
    "# Data Pipeline\n",
    "Dataload = Dataloader(df=df_train)\n",
    "img,true_boxes  = Dataload.build_iterator()\n",
    "with tf.Session() as sess:\n",
    "    Ans,true = sess.run([img,true_boxes])\n"
   ]
  },
  {
   "cell_type": "code",
   "execution_count": 8,
   "metadata": {},
   "outputs": [
    {
     "name": "stdout",
     "output_type": "stream",
     "text": [
      "_________________________________________________________________\n",
      "Layer (type)                 Output Shape              Param #   \n",
      "=================================================================\n",
      "input_1 (InputLayer)         (None, 480, 480, 3)       0         \n",
      "_________________________________________________________________\n",
      "conv2d_1 (Conv2D)            (None, 480, 480, 16)      432       \n",
      "_________________________________________________________________\n",
      "batch_normalization_1 (Batch (None, 480, 480, 16)      64        \n",
      "_________________________________________________________________\n",
      "leaky_re_lu_1 (LeakyReLU)    (None, 480, 480, 16)      0         \n",
      "_________________________________________________________________\n",
      "max_pooling2d_1 (MaxPooling2 (None, 240, 240, 16)      0         \n",
      "_________________________________________________________________\n",
      "conv2d_2 (Conv2D)            (None, 240, 240, 32)      4608      \n",
      "_________________________________________________________________\n",
      "batch_normalization_2 (Batch (None, 240, 240, 32)      128       \n",
      "_________________________________________________________________\n",
      "leaky_re_lu_2 (LeakyReLU)    (None, 240, 240, 32)      0         \n",
      "_________________________________________________________________\n",
      "max_pooling2d_2 (MaxPooling2 (None, 120, 120, 32)      0         \n",
      "_________________________________________________________________\n",
      "conv2d_3 (Conv2D)            (None, 120, 120, 64)      18432     \n",
      "_________________________________________________________________\n",
      "batch_normalization_3 (Batch (None, 120, 120, 64)      256       \n",
      "_________________________________________________________________\n",
      "leaky_re_lu_3 (LeakyReLU)    (None, 120, 120, 64)      0         \n",
      "_________________________________________________________________\n",
      "max_pooling2d_3 (MaxPooling2 (None, 60, 60, 64)        0         \n",
      "_________________________________________________________________\n",
      "conv2d_4 (Conv2D)            (None, 60, 60, 128)       73728     \n",
      "_________________________________________________________________\n",
      "batch_normalization_4 (Batch (None, 60, 60, 128)       512       \n",
      "_________________________________________________________________\n",
      "leaky_re_lu_4 (LeakyReLU)    (None, 60, 60, 128)       0         \n",
      "_________________________________________________________________\n",
      "max_pooling2d_4 (MaxPooling2 (None, 30, 30, 128)       0         \n",
      "_________________________________________________________________\n",
      "conv2d_5 (Conv2D)            (None, 30, 30, 256)       294912    \n",
      "_________________________________________________________________\n",
      "batch_normalization_5 (Batch (None, 30, 30, 256)       1024      \n",
      "_________________________________________________________________\n",
      "leaky_re_lu_5 (LeakyReLU)    (None, 30, 30, 256)       0         \n",
      "_________________________________________________________________\n",
      "max_pooling2d_5 (MaxPooling2 (None, 15, 15, 256)       0         \n",
      "_________________________________________________________________\n",
      "conv2d_6 (Conv2D)            (None, 15, 15, 512)       1179648   \n",
      "_________________________________________________________________\n",
      "batch_normalization_6 (Batch (None, 15, 15, 512)       2048      \n",
      "_________________________________________________________________\n",
      "leaky_re_lu_6 (LeakyReLU)    (None, 15, 15, 512)       0         \n",
      "_________________________________________________________________\n",
      "max_pooling2d_6 (MaxPooling2 (None, 15, 15, 512)       0         \n",
      "_________________________________________________________________\n",
      "conv2d_7 (Conv2D)            (None, 15, 15, 1024)      4718592   \n",
      "_________________________________________________________________\n",
      "batch_normalization_7 (Batch (None, 15, 15, 1024)      4096      \n",
      "_________________________________________________________________\n",
      "leaky_re_lu_7 (LeakyReLU)    (None, 15, 15, 1024)      0         \n",
      "_________________________________________________________________\n",
      "conv2d_8 (Conv2D)            (None, 15, 15, 5)         5125      \n",
      "=================================================================\n",
      "Total params: 6,303,605\n",
      "Trainable params: 6,299,541\n",
      "Non-trainable params: 4,064\n",
      "_________________________________________________________________\n"
     ]
    }
   ],
   "source": [
    "model = TinyYOLOv2(480)\n",
    "model.m.summary()"
   ]
  },
  {
   "cell_type": "code",
   "execution_count": 23,
   "metadata": {
    "collapsed": true
   },
   "outputs": [],
   "source": []
  },
  {
   "cell_type": "code",
   "execution_count": 73,
   "metadata": {
    "collapsed": true
   },
   "outputs": [],
   "source": []
  },
  {
   "cell_type": "code",
   "execution_count": null,
   "metadata": {
    "collapsed": true
   },
   "outputs": [],
   "source": []
  }
 ],
 "metadata": {
  "kernelspec": {
   "display_name": "tensorflow",
   "language": "python",
   "name": "tensorflow"
  },
  "language_info": {
   "codemirror_mode": {
    "name": "ipython",
    "version": 2
   },
   "file_extension": ".py",
   "mimetype": "text/x-python",
   "name": "python",
   "nbconvert_exporter": "python",
   "pygments_lexer": "ipython2",
   "version": "2.7.13"
  }
 },
 "nbformat": 4,
 "nbformat_minor": 2
}
